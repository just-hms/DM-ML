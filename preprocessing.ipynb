{
 "cells": [
  {
   "attachments": {},
   "cell_type": "markdown",
   "metadata": {},
   "source": [
    "# Data extraction and aggregation"
   ]
  },
  {
   "cell_type": "code",
   "execution_count": 132,
   "metadata": {},
   "outputs": [
    {
     "name": "stdout",
     "output_type": "stream",
     "text": [
      "<class 'pandas.core.frame.DataFrame'>\n",
      "Int64Index: 2540047 entries, 0 to 440043\n",
      "Data columns (total 49 columns):\n",
      " #   Column            Dtype  \n",
      "---  ------            -----  \n",
      " 0   srcip             object \n",
      " 1   sport             object \n",
      " 2   dstip             object \n",
      " 3   dsport            object \n",
      " 4   proto             object \n",
      " 5   state             object \n",
      " 6   dur               float64\n",
      " 7   sbytes            int64  \n",
      " 8   dbytes            int64  \n",
      " 9   sttl              int64  \n",
      " 10  dttl              int64  \n",
      " 11  sloss             int64  \n",
      " 12  dloss             int64  \n",
      " 13  service           object \n",
      " 14  Sload             float64\n",
      " 15  Dload             float64\n",
      " 16  Spkts             int64  \n",
      " 17  Dpkts             int64  \n",
      " 18  swin              int64  \n",
      " 19  dwin              int64  \n",
      " 20  stcpb             int64  \n",
      " 21  dtcpb             int64  \n",
      " 22  smeansz           int64  \n",
      " 23  dmeansz           int64  \n",
      " 24  trans_depth       int64  \n",
      " 25  res_bdy_len       int64  \n",
      " 26  Sjit              float64\n",
      " 27  Djit              float64\n",
      " 28  Stime             int64  \n",
      " 29  Ltime             int64  \n",
      " 30  Sintpkt           float64\n",
      " 31  Dintpkt           float64\n",
      " 32  tcprtt            float64\n",
      " 33  synack            float64\n",
      " 34  ackdat            float64\n",
      " 35  is_sm_ips_ports   int64  \n",
      " 36  ct_state_ttl      int64  \n",
      " 37  ct_flw_http_mthd  float64\n",
      " 38  is_ftp_login      float64\n",
      " 39  ct_ftp_cmd        object \n",
      " 40  ct_srv_src        int64  \n",
      " 41  ct_srv_dst        int64  \n",
      " 42  ct_dst_ltm        int64  \n",
      " 43  ct_src_ltm        int64  \n",
      " 44  ct_src_dport_ltm  int64  \n",
      " 45  ct_dst_sport_ltm  int64  \n",
      " 46  ct_dst_src_ltm    int64  \n",
      " 47  attack_cat        object \n",
      " 48  Label             int64  \n",
      "dtypes: float64(12), int64(28), object(9)\n",
      "memory usage: 969.0+ MB\n"
     ]
    }
   ],
   "source": [
    "import pandas as pd\n",
    "from matplotlib import pyplot as plt\n",
    "import seaborn as sns\n",
    "\n",
    "path = r'./UNSW-NB15/'\n",
    "\n",
    "features = pd.read_csv(path + \"NUSW-NB15_features.csv\", encoding='cp1252')\n",
    "\n",
    "data = pd.concat([\n",
    "    pd.read_csv(path + \"UNSW-NB15_1.csv\", low_memory=False, names=features.Name),\n",
    "    pd.read_csv(path + \"UNSW-NB15_2.csv\", low_memory=False, names=features.Name),\n",
    "    pd.read_csv(path + \"UNSW-NB15_3.csv\", low_memory=False, names=features.Name),\n",
    "    pd.read_csv(path + \"UNSW-NB15_4.csv\", low_memory=False, names=features.Name)\n",
    "])\n",
    "\n",
    "data.info()"
   ]
  },
  {
   "attachments": {},
   "cell_type": "markdown",
   "metadata": {},
   "source": [
    "# Features Conversion"
   ]
  },
  {
   "attachments": {},
   "cell_type": "markdown",
   "metadata": {},
   "source": [
    "## Features which are unusable in the real world are dropped\n",
    "\n",
    "the features are : `srcip`, `sport`, `dstip`\n",
    "\n",
    "ip and port can vary and they can be faked using vpns"
   ]
  },
  {
   "cell_type": "code",
   "execution_count": 133,
   "metadata": {},
   "outputs": [
    {
     "name": "stdout",
     "output_type": "stream",
     "text": [
      "<class 'pandas.core.frame.DataFrame'>\n",
      "Int64Index: 2540047 entries, 0 to 440043\n",
      "Data columns (total 46 columns):\n",
      " #   Column            Dtype  \n",
      "---  ------            -----  \n",
      " 0   dsport            object \n",
      " 1   proto             object \n",
      " 2   state             object \n",
      " 3   dur               float64\n",
      " 4   sbytes            int64  \n",
      " 5   dbytes            int64  \n",
      " 6   sttl              int64  \n",
      " 7   dttl              int64  \n",
      " 8   sloss             int64  \n",
      " 9   dloss             int64  \n",
      " 10  service           object \n",
      " 11  Sload             float64\n",
      " 12  Dload             float64\n",
      " 13  Spkts             int64  \n",
      " 14  Dpkts             int64  \n",
      " 15  swin              int64  \n",
      " 16  dwin              int64  \n",
      " 17  stcpb             int64  \n",
      " 18  dtcpb             int64  \n",
      " 19  smeansz           int64  \n",
      " 20  dmeansz           int64  \n",
      " 21  trans_depth       int64  \n",
      " 22  res_bdy_len       int64  \n",
      " 23  Sjit              float64\n",
      " 24  Djit              float64\n",
      " 25  Stime             int64  \n",
      " 26  Ltime             int64  \n",
      " 27  Sintpkt           float64\n",
      " 28  Dintpkt           float64\n",
      " 29  tcprtt            float64\n",
      " 30  synack            float64\n",
      " 31  ackdat            float64\n",
      " 32  is_sm_ips_ports   int64  \n",
      " 33  ct_state_ttl      int64  \n",
      " 34  ct_flw_http_mthd  float64\n",
      " 35  is_ftp_login      float64\n",
      " 36  ct_ftp_cmd        object \n",
      " 37  ct_srv_src        int64  \n",
      " 38  ct_srv_dst        int64  \n",
      " 39  ct_dst_ltm        int64  \n",
      " 40  ct_src_ltm        int64  \n",
      " 41  ct_src_dport_ltm  int64  \n",
      " 42  ct_dst_sport_ltm  int64  \n",
      " 43  ct_dst_src_ltm    int64  \n",
      " 44  attack_cat        object \n",
      " 45  Label             int64  \n",
      "dtypes: float64(12), int64(28), object(6)\n",
      "memory usage: 910.8+ MB\n"
     ]
    }
   ],
   "source": [
    "data.drop(\n",
    "\t[\"srcip\", \"sport\", \"dstip\"], \n",
    "\taxis='columns', \n",
    "\tinplace=True\n",
    ")\n",
    "data.info()"
   ]
  },
  {
   "attachments": {},
   "cell_type": "markdown",
   "metadata": {},
   "source": [
    "## Parsing `ct_ftp_cmd` to int\n",
    "\n",
    "setting `-1` if the value was blank"
   ]
  },
  {
   "cell_type": "code",
   "execution_count": 134,
   "metadata": {},
   "outputs": [
    {
     "name": "stdout",
     "output_type": "stream",
     "text": [
      "<class 'pandas.core.frame.DataFrame'>\n",
      "Int64Index: 2540047 entries, 0 to 440043\n",
      "Data columns (total 46 columns):\n",
      " #   Column            Dtype  \n",
      "---  ------            -----  \n",
      " 0   dsport            object \n",
      " 1   proto             object \n",
      " 2   state             object \n",
      " 3   dur               float64\n",
      " 4   sbytes            int64  \n",
      " 5   dbytes            int64  \n",
      " 6   sttl              int64  \n",
      " 7   dttl              int64  \n",
      " 8   sloss             int64  \n",
      " 9   dloss             int64  \n",
      " 10  service           object \n",
      " 11  Sload             float64\n",
      " 12  Dload             float64\n",
      " 13  Spkts             int64  \n",
      " 14  Dpkts             int64  \n",
      " 15  swin              int64  \n",
      " 16  dwin              int64  \n",
      " 17  stcpb             int64  \n",
      " 18  dtcpb             int64  \n",
      " 19  smeansz           int64  \n",
      " 20  dmeansz           int64  \n",
      " 21  trans_depth       int64  \n",
      " 22  res_bdy_len       int64  \n",
      " 23  Sjit              float64\n",
      " 24  Djit              float64\n",
      " 25  Stime             int64  \n",
      " 26  Ltime             int64  \n",
      " 27  Sintpkt           float64\n",
      " 28  Dintpkt           float64\n",
      " 29  tcprtt            float64\n",
      " 30  synack            float64\n",
      " 31  ackdat            float64\n",
      " 32  is_sm_ips_ports   int64  \n",
      " 33  ct_state_ttl      int64  \n",
      " 34  ct_flw_http_mthd  float64\n",
      " 35  is_ftp_login      float64\n",
      " 36  ct_ftp_cmd        int64  \n",
      " 37  ct_srv_src        int64  \n",
      " 38  ct_srv_dst        int64  \n",
      " 39  ct_dst_ltm        int64  \n",
      " 40  ct_src_ltm        int64  \n",
      " 41  ct_src_dport_ltm  int64  \n",
      " 42  ct_dst_sport_ltm  int64  \n",
      " 43  ct_dst_src_ltm    int64  \n",
      " 44  attack_cat        object \n",
      " 45  Label             int64  \n",
      "dtypes: float64(12), int64(29), object(5)\n",
      "memory usage: 910.8+ MB\n"
     ]
    }
   ],
   "source": [
    "data[\"ct_ftp_cmd\"] = data[\"ct_ftp_cmd\"].apply(lambda x: int(x) if x != \" \" else -1)\n",
    "data.info()"
   ]
  },
  {
   "attachments": {},
   "cell_type": "markdown",
   "metadata": {},
   "source": [
    "## Converting Hex to int"
   ]
  },
  {
   "cell_type": "code",
   "execution_count": 135,
   "metadata": {},
   "outputs": [
    {
     "name": "stdout",
     "output_type": "stream",
     "text": [
      "<class 'pandas.core.frame.DataFrame'>\n",
      "Int64Index: 2540047 entries, 0 to 440043\n",
      "Data columns (total 46 columns):\n",
      " #   Column            Dtype  \n",
      "---  ------            -----  \n",
      " 0   dsport            int64  \n",
      " 1   proto             object \n",
      " 2   state             object \n",
      " 3   dur               float64\n",
      " 4   sbytes            int64  \n",
      " 5   dbytes            int64  \n",
      " 6   sttl              int64  \n",
      " 7   dttl              int64  \n",
      " 8   sloss             int64  \n",
      " 9   dloss             int64  \n",
      " 10  service           object \n",
      " 11  Sload             float64\n",
      " 12  Dload             float64\n",
      " 13  Spkts             int64  \n",
      " 14  Dpkts             int64  \n",
      " 15  swin              int64  \n",
      " 16  dwin              int64  \n",
      " 17  stcpb             int64  \n",
      " 18  dtcpb             int64  \n",
      " 19  smeansz           int64  \n",
      " 20  dmeansz           int64  \n",
      " 21  trans_depth       int64  \n",
      " 22  res_bdy_len       int64  \n",
      " 23  Sjit              float64\n",
      " 24  Djit              float64\n",
      " 25  Stime             int64  \n",
      " 26  Ltime             int64  \n",
      " 27  Sintpkt           float64\n",
      " 28  Dintpkt           float64\n",
      " 29  tcprtt            float64\n",
      " 30  synack            float64\n",
      " 31  ackdat            float64\n",
      " 32  is_sm_ips_ports   int64  \n",
      " 33  ct_state_ttl      int64  \n",
      " 34  ct_flw_http_mthd  float64\n",
      " 35  is_ftp_login      float64\n",
      " 36  ct_ftp_cmd        int64  \n",
      " 37  ct_srv_src        int64  \n",
      " 38  ct_srv_dst        int64  \n",
      " 39  ct_dst_ltm        int64  \n",
      " 40  ct_src_ltm        int64  \n",
      " 41  ct_src_dport_ltm  int64  \n",
      " 42  ct_dst_sport_ltm  int64  \n",
      " 43  ct_dst_src_ltm    int64  \n",
      " 44  attack_cat        object \n",
      " 45  Label             int64  \n",
      "dtypes: float64(12), int64(30), object(4)\n",
      "memory usage: 910.8+ MB\n"
     ]
    }
   ],
   "source": [
    "data[\"dsport\"] = data[\"dsport\"].apply(lambda x: int(x, 16) if x != \"-\" else -1)\n",
    "data.info()"
   ]
  },
  {
   "attachments": {},
   "cell_type": "markdown",
   "metadata": {},
   "source": [
    "## Converting the nominal features\n",
    "\n",
    "todo: create the enum for each features"
   ]
  },
  {
   "cell_type": "code",
   "execution_count": 136,
   "metadata": {},
   "outputs": [
    {
     "name": "stdout",
     "output_type": "stream",
     "text": [
      "<class 'pandas.core.frame.DataFrame'>\n",
      "Int64Index: 2540047 entries, 0 to 440043\n",
      "Data columns (total 46 columns):\n",
      " #   Column            Dtype  \n",
      "---  ------            -----  \n",
      " 0   dsport            int64  \n",
      " 1   proto             int64  \n",
      " 2   state             int64  \n",
      " 3   dur               float64\n",
      " 4   sbytes            int64  \n",
      " 5   dbytes            int64  \n",
      " 6   sttl              int64  \n",
      " 7   dttl              int64  \n",
      " 8   sloss             int64  \n",
      " 9   dloss             int64  \n",
      " 10  service           int64  \n",
      " 11  Sload             float64\n",
      " 12  Dload             float64\n",
      " 13  Spkts             int64  \n",
      " 14  Dpkts             int64  \n",
      " 15  swin              int64  \n",
      " 16  dwin              int64  \n",
      " 17  stcpb             int64  \n",
      " 18  dtcpb             int64  \n",
      " 19  smeansz           int64  \n",
      " 20  dmeansz           int64  \n",
      " 21  trans_depth       int64  \n",
      " 22  res_bdy_len       int64  \n",
      " 23  Sjit              float64\n",
      " 24  Djit              float64\n",
      " 25  Stime             int64  \n",
      " 26  Ltime             int64  \n",
      " 27  Sintpkt           float64\n",
      " 28  Dintpkt           float64\n",
      " 29  tcprtt            float64\n",
      " 30  synack            float64\n",
      " 31  ackdat            float64\n",
      " 32  is_sm_ips_ports   int64  \n",
      " 33  ct_state_ttl      int64  \n",
      " 34  ct_flw_http_mthd  float64\n",
      " 35  is_ftp_login      float64\n",
      " 36  ct_ftp_cmd        int64  \n",
      " 37  ct_srv_src        int64  \n",
      " 38  ct_srv_dst        int64  \n",
      " 39  ct_dst_ltm        int64  \n",
      " 40  ct_src_ltm        int64  \n",
      " 41  ct_src_dport_ltm  int64  \n",
      " 42  ct_dst_sport_ltm  int64  \n",
      " 43  ct_dst_src_ltm    int64  \n",
      " 44  attack_cat        object \n",
      " 45  Label             int64  \n",
      "dtypes: float64(12), int64(33), object(1)\n",
      "memory usage: 910.8+ MB\n"
     ]
    }
   ],
   "source": [
    "nominal_features = [\"proto\", \"state\", \"service\"]\n",
    "\n",
    "for nominal_feature in nominal_features:\n",
    "\t\tnew_values, index = pd.factorize(data[nominal_feature])\n",
    "\t\tdata[nominal_feature] = new_values\n",
    "\n",
    "data.info()"
   ]
  },
  {
   "attachments": {},
   "cell_type": "markdown",
   "metadata": {},
   "source": [
    "# Plot the features correlation"
   ]
  },
  {
   "cell_type": "code",
   "execution_count": 137,
   "metadata": {},
   "outputs": [
    {
     "ename": "KeyError",
     "evalue": "\"['Label'] not found in axis\"",
     "output_type": "error",
     "traceback": [
      "\u001b[1;31m---------------------------------------------------------------------------\u001b[0m",
      "\u001b[1;31mKeyError\u001b[0m                                  Traceback (most recent call last)",
      "Cell \u001b[1;32mIn[137], line 3\u001b[0m\n\u001b[0;32m      1\u001b[0m f,ax \u001b[39m=\u001b[39m plt\u001b[39m.\u001b[39msubplots(figsize\u001b[39m=\u001b[39m(\u001b[39m40\u001b[39m,\u001b[39m32\u001b[39m))\n\u001b[1;32m----> 3\u001b[0m correlation_matrix \u001b[39m=\u001b[39m data\u001b[39m.\u001b[39;49mdrop(\u001b[39m\"\u001b[39;49m\u001b[39mLabel\u001b[39;49m\u001b[39m\"\u001b[39;49m)\u001b[39m.\u001b[39mcorr()\n\u001b[0;32m      5\u001b[0m sns\u001b[39m.\u001b[39mheatmap(correlation_matrix, annot\u001b[39m=\u001b[39m\u001b[39mTrue\u001b[39;00m, linewidths\u001b[39m=\u001b[39m\u001b[39m0.5\u001b[39m, fmt\u001b[39m=\u001b[39m \u001b[39m'\u001b[39m\u001b[39m.2f\u001b[39m\u001b[39m'\u001b[39m,ax\u001b[39m=\u001b[39max)\n\u001b[0;32m      6\u001b[0m plt\u001b[39m.\u001b[39mshow()\n",
      "File \u001b[1;32mc:\\Users\\aless\\AppData\\Local\\Programs\\Python\\Python39\\lib\\site-packages\\pandas\\util\\_decorators.py:317\u001b[0m, in \u001b[0;36mdeprecate_nonkeyword_arguments.<locals>.decorate.<locals>.wrapper\u001b[1;34m(*args, **kwargs)\u001b[0m\n\u001b[0;32m    311\u001b[0m \u001b[39mif\u001b[39;00m \u001b[39mlen\u001b[39m(args) \u001b[39m>\u001b[39m num_allow_args:\n\u001b[0;32m    312\u001b[0m     warnings\u001b[39m.\u001b[39mwarn(\n\u001b[0;32m    313\u001b[0m         msg\u001b[39m.\u001b[39mformat(arguments\u001b[39m=\u001b[39marguments),\n\u001b[0;32m    314\u001b[0m         \u001b[39mFutureWarning\u001b[39;00m,\n\u001b[0;32m    315\u001b[0m         stacklevel\u001b[39m=\u001b[39mfind_stack_level(inspect\u001b[39m.\u001b[39mcurrentframe()),\n\u001b[0;32m    316\u001b[0m     )\n\u001b[1;32m--> 317\u001b[0m \u001b[39mreturn\u001b[39;00m func(\u001b[39m*\u001b[39margs, \u001b[39m*\u001b[39m\u001b[39m*\u001b[39mkwargs)\n",
      "File \u001b[1;32mc:\\Users\\aless\\AppData\\Local\\Programs\\Python\\Python39\\lib\\site-packages\\pandas\\core\\frame.py:5391\u001b[0m, in \u001b[0;36mDataFrame.drop\u001b[1;34m(self, labels, axis, index, columns, level, inplace, errors)\u001b[0m\n\u001b[0;32m   5243\u001b[0m \u001b[39m@deprecate_nonkeyword_arguments\u001b[39m(version\u001b[39m=\u001b[39m\u001b[39mNone\u001b[39;00m, allowed_args\u001b[39m=\u001b[39m[\u001b[39m\"\u001b[39m\u001b[39mself\u001b[39m\u001b[39m\"\u001b[39m, \u001b[39m\"\u001b[39m\u001b[39mlabels\u001b[39m\u001b[39m\"\u001b[39m])\n\u001b[0;32m   5244\u001b[0m \u001b[39mdef\u001b[39;00m \u001b[39mdrop\u001b[39m(  \u001b[39m# type: ignore[override]\u001b[39;00m\n\u001b[0;32m   5245\u001b[0m     \u001b[39mself\u001b[39m,\n\u001b[1;32m   (...)\u001b[0m\n\u001b[0;32m   5252\u001b[0m     errors: IgnoreRaise \u001b[39m=\u001b[39m \u001b[39m\"\u001b[39m\u001b[39mraise\u001b[39m\u001b[39m\"\u001b[39m,\n\u001b[0;32m   5253\u001b[0m ) \u001b[39m-\u001b[39m\u001b[39m>\u001b[39m DataFrame \u001b[39m|\u001b[39m \u001b[39mNone\u001b[39;00m:\n\u001b[0;32m   5254\u001b[0m     \u001b[39m\"\"\"\u001b[39;00m\n\u001b[0;32m   5255\u001b[0m \u001b[39m    Drop specified labels from rows or columns.\u001b[39;00m\n\u001b[0;32m   5256\u001b[0m \n\u001b[1;32m   (...)\u001b[0m\n\u001b[0;32m   5389\u001b[0m \u001b[39m            weight  1.0     0.8\u001b[39;00m\n\u001b[0;32m   5390\u001b[0m \u001b[39m    \"\"\"\u001b[39;00m\n\u001b[1;32m-> 5391\u001b[0m     \u001b[39mreturn\u001b[39;00m \u001b[39msuper\u001b[39;49m()\u001b[39m.\u001b[39;49mdrop(\n\u001b[0;32m   5392\u001b[0m         labels\u001b[39m=\u001b[39;49mlabels,\n\u001b[0;32m   5393\u001b[0m         axis\u001b[39m=\u001b[39;49maxis,\n\u001b[0;32m   5394\u001b[0m         index\u001b[39m=\u001b[39;49mindex,\n\u001b[0;32m   5395\u001b[0m         columns\u001b[39m=\u001b[39;49mcolumns,\n\u001b[0;32m   5396\u001b[0m         level\u001b[39m=\u001b[39;49mlevel,\n\u001b[0;32m   5397\u001b[0m         inplace\u001b[39m=\u001b[39;49minplace,\n\u001b[0;32m   5398\u001b[0m         errors\u001b[39m=\u001b[39;49merrors,\n\u001b[0;32m   5399\u001b[0m     )\n",
      "File \u001b[1;32mc:\\Users\\aless\\AppData\\Local\\Programs\\Python\\Python39\\lib\\site-packages\\pandas\\util\\_decorators.py:317\u001b[0m, in \u001b[0;36mdeprecate_nonkeyword_arguments.<locals>.decorate.<locals>.wrapper\u001b[1;34m(*args, **kwargs)\u001b[0m\n\u001b[0;32m    311\u001b[0m \u001b[39mif\u001b[39;00m \u001b[39mlen\u001b[39m(args) \u001b[39m>\u001b[39m num_allow_args:\n\u001b[0;32m    312\u001b[0m     warnings\u001b[39m.\u001b[39mwarn(\n\u001b[0;32m    313\u001b[0m         msg\u001b[39m.\u001b[39mformat(arguments\u001b[39m=\u001b[39marguments),\n\u001b[0;32m    314\u001b[0m         \u001b[39mFutureWarning\u001b[39;00m,\n\u001b[0;32m    315\u001b[0m         stacklevel\u001b[39m=\u001b[39mfind_stack_level(inspect\u001b[39m.\u001b[39mcurrentframe()),\n\u001b[0;32m    316\u001b[0m     )\n\u001b[1;32m--> 317\u001b[0m \u001b[39mreturn\u001b[39;00m func(\u001b[39m*\u001b[39margs, \u001b[39m*\u001b[39m\u001b[39m*\u001b[39mkwargs)\n",
      "File \u001b[1;32mc:\\Users\\aless\\AppData\\Local\\Programs\\Python\\Python39\\lib\\site-packages\\pandas\\core\\generic.py:4510\u001b[0m, in \u001b[0;36mNDFrame.drop\u001b[1;34m(self, labels, axis, index, columns, level, inplace, errors)\u001b[0m\n\u001b[0;32m   4508\u001b[0m \u001b[39mfor\u001b[39;00m axis, labels \u001b[39min\u001b[39;00m axes\u001b[39m.\u001b[39mitems():\n\u001b[0;32m   4509\u001b[0m     \u001b[39mif\u001b[39;00m labels \u001b[39mis\u001b[39;00m \u001b[39mnot\u001b[39;00m \u001b[39mNone\u001b[39;00m:\n\u001b[1;32m-> 4510\u001b[0m         obj \u001b[39m=\u001b[39m obj\u001b[39m.\u001b[39;49m_drop_axis(labels, axis, level\u001b[39m=\u001b[39;49mlevel, errors\u001b[39m=\u001b[39;49merrors)\n\u001b[0;32m   4512\u001b[0m \u001b[39mif\u001b[39;00m inplace:\n\u001b[0;32m   4513\u001b[0m     \u001b[39mself\u001b[39m\u001b[39m.\u001b[39m_update_inplace(obj)\n",
      "File \u001b[1;32mc:\\Users\\aless\\AppData\\Local\\Programs\\Python\\Python39\\lib\\site-packages\\pandas\\core\\generic.py:4580\u001b[0m, in \u001b[0;36mNDFrame._drop_axis\u001b[1;34m(self, labels, axis, level, errors, only_slice)\u001b[0m\n\u001b[0;32m   4578\u001b[0m     labels_missing \u001b[39m=\u001b[39m (axis\u001b[39m.\u001b[39mget_indexer_for(labels) \u001b[39m==\u001b[39m \u001b[39m-\u001b[39m\u001b[39m1\u001b[39m)\u001b[39m.\u001b[39many()\n\u001b[0;32m   4579\u001b[0m     \u001b[39mif\u001b[39;00m errors \u001b[39m==\u001b[39m \u001b[39m\"\u001b[39m\u001b[39mraise\u001b[39m\u001b[39m\"\u001b[39m \u001b[39mand\u001b[39;00m labels_missing:\n\u001b[1;32m-> 4580\u001b[0m         \u001b[39mraise\u001b[39;00m \u001b[39mKeyError\u001b[39;00m(\u001b[39mf\u001b[39m\u001b[39m\"\u001b[39m\u001b[39m{\u001b[39;00mlabels\u001b[39m}\u001b[39;00m\u001b[39m not found in axis\u001b[39m\u001b[39m\"\u001b[39m)\n\u001b[0;32m   4582\u001b[0m \u001b[39mif\u001b[39;00m is_extension_array_dtype(mask\u001b[39m.\u001b[39mdtype):\n\u001b[0;32m   4583\u001b[0m     \u001b[39m# GH#45860\u001b[39;00m\n\u001b[0;32m   4584\u001b[0m     mask \u001b[39m=\u001b[39m mask\u001b[39m.\u001b[39mto_numpy(dtype\u001b[39m=\u001b[39m\u001b[39mbool\u001b[39m)\n",
      "\u001b[1;31mKeyError\u001b[0m: \"['Label'] not found in axis\""
     ]
    },
    {
     "data": {
      "image/png": "[encoded data removed]",
      "text/plain": [
       "<Figure size 4000x3200 with 1 Axes>"
      ]
     },
     "metadata": {},
     "output_type": "display_data"
    }
   ],
   "source": [
    "f,ax = plt.subplots(figsize=(40,32))\n",
    "\n",
    "correlation_matrix = data.corr()\n",
    "\n",
    "sns.heatmap(correlation_matrix, annot=True, linewidths=0.5, fmt= '.2f',ax=ax)\n",
    "plt.show()"
   ]
  },
  {
   "attachments": {},
   "cell_type": "markdown",
   "metadata": {},
   "source": [
    "## Drop the correlated features"
   ]
  },
  {
   "cell_type": "code",
   "execution_count": 118,
   "metadata": {},
   "outputs": [
    {
     "name": "stdout",
     "output_type": "stream",
     "text": [
      "['sloss', 'dloss', 'Dpkts', 'dwin', 'Ltime', 'synack', 'ackdat', 'ct_state_ttl', 'ct_srv_dst', 'ct_src_ltm', 'ct_src_dport_ltm', 'ct_dst_sport_ltm', 'ct_dst_src_ltm', 'Label']\n",
      "<class 'pandas.core.frame.DataFrame'>\n",
      "Int64Index: 2540047 entries, 0 to 440043\n",
      "Data columns (total 32 columns):\n",
      " #   Column            Dtype  \n",
      "---  ------            -----  \n",
      " 0   dsport            int64  \n",
      " 1   proto             int64  \n",
      " 2   state             int64  \n",
      " 3   dur               float64\n",
      " 4   sbytes            int64  \n",
      " 5   dbytes            int64  \n",
      " 6   sttl              int64  \n",
      " 7   dttl              int64  \n",
      " 8   service           int64  \n",
      " 9   Sload             float64\n",
      " 10  Dload             float64\n",
      " 11  Spkts             int64  \n",
      " 12  swin              int64  \n",
      " 13  stcpb             int64  \n",
      " 14  dtcpb             int64  \n",
      " 15  smeansz           int64  \n",
      " 16  dmeansz           int64  \n",
      " 17  trans_depth       int64  \n",
      " 18  res_bdy_len       int64  \n",
      " 19  Sjit              float64\n",
      " 20  Djit              float64\n",
      " 21  Stime             int64  \n",
      " 22  Sintpkt           float64\n",
      " 23  Dintpkt           float64\n",
      " 24  tcprtt            float64\n",
      " 25  is_sm_ips_ports   int64  \n",
      " 26  ct_flw_http_mthd  float64\n",
      " 27  is_ftp_login      float64\n",
      " 28  ct_ftp_cmd        int64  \n",
      " 29  ct_srv_src        int64  \n",
      " 30  ct_dst_ltm        int64  \n",
      " 31  attack_cat        object \n",
      "dtypes: float64(10), int64(21), object(1)\n",
      "memory usage: 639.5+ MB\n"
     ]
    },
    {
     "name": "stderr",
     "output_type": "stream",
     "text": [
      "C:\\Users\\aless\\AppData\\Local\\Temp\\ipykernel_19288\\2236754667.py:6: DeprecationWarning: `np.bool` is a deprecated alias for the builtin `bool`. To silence this warning, use `bool` by itself. Doing this will not modify any behavior and is safe. If you specifically wanted the numpy scalar type, use `np.bool_` here.\n",
      "Deprecated in NumPy 1.20; for more details and guidance: https://numpy.org/devdocs/release/1.20.0-notes.html#deprecations\n",
      "  upper = abs_correlation_matrix.where(np.triu(np.ones(abs_correlation_matrix.shape), k=1).astype(np.bool))\n"
     ]
    }
   ],
   "source": [
    "import numpy as np\n",
    "\n",
    "abs_correlation_matrix = correlation_matrix.abs()\n",
    "\n",
    "# Select upper triangle of correlation matrix\n",
    "upper = abs_correlation_matrix.where(np.triu(np.ones(abs_correlation_matrix.shape), k=1).astype(np.bool))\n",
    "\n",
    "# Find features with correlation greater than 0.95\n",
    "to_drop = [column for column in upper.columns if any(upper[column] > 0.90)]\n",
    "\n",
    "print(to_drop)\n",
    "\n",
    "# Drop features \n",
    "data.drop(to_drop, axis=1, inplace=True)\n",
    "\n",
    "data.info()"
   ]
  },
  {
   "attachments": {},
   "cell_type": "markdown",
   "metadata": {},
   "source": [
    "# Let's try to analyze the class division"
   ]
  },
  {
   "cell_type": "code",
   "execution_count": null,
   "metadata": {},
   "outputs": [],
   "source": [
    "data_summary_attack = pd.DataFrame(data.Label.value_counts())\n",
    "data_summary_attack.columns.values[0] = \"Occurrencies\"\n",
    "\n",
    "data_summary_attack[\"Percentage\"] = data.Label.value_counts() / len(data)\n",
    "\n",
    "data_summary_attack"
   ]
  },
  {
   "attachments": {},
   "cell_type": "markdown",
   "metadata": {},
   "source": [
    "We have a very unbalanced dataset. Now let's look at the attack classes"
   ]
  },
  {
   "cell_type": "code",
   "execution_count": null,
   "metadata": {},
   "outputs": [],
   "source": [
    "\n",
    "data_summary_classes = pd.DataFrame(data.attack_cat.value_counts())\n",
    "data_summary_classes.columns.values[0] = \"Occurrencies\"\n",
    "\n",
    "attack_len = sum(data.Label)\n",
    "data_summary_classes[\"Percentage\"] = data.attack_cat.value_counts() / attack_len\n",
    "\n",
    "data_summary_classes"
   ]
  },
  {
   "attachments": {},
   "cell_type": "markdown",
   "metadata": {},
   "source": [
    "## Similar attack categories will be merged in order to make them more even\n",
    "\n",
    "TODO"
   ]
  },
  {
   "cell_type": "code",
   "execution_count": null,
   "metadata": {},
   "outputs": [],
   "source": [
    "# todo\n",
    "\n",
    "# print the new data_summary_classes"
   ]
  },
  {
   "attachments": {},
   "cell_type": "markdown",
   "metadata": {},
   "source": [
    "# PCA"
   ]
  },
  {
   "attachments": {},
   "cell_type": "markdown",
   "metadata": {},
   "source": [
    "# Analyze the predominant features distributions\n",
    "\n",
    "ex: if `unas` is used only to do attacks there is a real world problem, beacuse every time you use `unas` the classificator detects it as an attack"
   ]
  },
  {
   "attachments": {},
   "cell_type": "markdown",
   "metadata": {},
   "source": [
    "below we are cheking for the `proto` features "
   ]
  },
  {
   "cell_type": "code",
   "execution_count": null,
   "metadata": {},
   "outputs": [],
   "source": [
    "data_summary_protocol = pd.DataFrame(data.proto)\n",
    "data_summary_protocol.dropna(how=\"all\")\n",
    "data_summary_protocol = data_summary_protocol.reset_index().groupby(\"proto\").count()\n",
    "data_summary_protocol.columns.values[0] = \"Occurrencies\"\n",
    "data_summary_protocol[\"Percentage\"] = data_summary_protocol.Occurrencies/data_summary_protocol.sum()[0]\n",
    "data_summary_protocol.sort_values('Occurrencies', ascending=False)"
   ]
  },
  {
   "attachments": {},
   "cell_type": "markdown",
   "metadata": {},
   "source": [
    "We can see that the protocol occurrencies are mainly composed by tcp and udp, let's focus only on lines corresponding to the attack label."
   ]
  },
  {
   "cell_type": "code",
   "execution_count": null,
   "metadata": {},
   "outputs": [],
   "source": [
    "data_filtered = data[(data.Label == 1)]\n",
    "plt.figure()\n",
    "plt.hist(data_filtered.proto, bins = len(data_filtered.proto.value_counts()))\n",
    "plt.ylabel('Occurrences')\n",
    "plt.xlabel('Protocols')\n",
    "plt.xticks(rotation=45)\n",
    "data_summary_protocol_attack = pd.DataFrame(data_filtered.proto)\n",
    "data_summary_protocol_attack.dropna(how=\"all\")\n",
    "data_summary_protocol_attack = data_summary_protocol_attack.reset_index().groupby(\"proto\").count()\n",
    "data_summary_protocol_attack.columns.values[0] = \"Occurrencies\"\n",
    "data_summary_protocol_attack[\"Percentage\"] = data_summary_protocol_attack.Occurrencies/data_summary_protocol_attack.sum()[0]\n",
    "data_summary_protocol_attack.sort_values('Occurrencies', ascending=False)\n"
   ]
  }
 ],
 "metadata": {
  "kernelspec": {
   "display_name": "Python 3",
   "language": "python",
   "name": "python3"
  },
  "language_info": {
   "codemirror_mode": {
    "name": "ipython",
    "version": 3
   },
   "file_extension": ".py",
   "mimetype": "text/x-python",
   "name": "python",
   "nbconvert_exporter": "python",
   "pygments_lexer": "ipython3",
   "version": "3.9.1"
  },
  "orig_nbformat": 4,
  "vscode": {
   "interpreter": {
    "hash": "54d40a8d706b082090ba4f4c3f8e18179a1fa8c2ff26f9ae08651dbcb7b8ab81"
   }
  }
 },
 "nbformat": 4,
 "nbformat_minor": 2
}
