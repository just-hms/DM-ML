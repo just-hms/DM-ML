{
 "cells": [
  {
   "attachments": {},
   "cell_type": "markdown",
   "metadata": {},
   "source": [
    "# Data extraction and aggregation"
   ]
  },
  {
   "cell_type": "code",
   "execution_count": null,
   "metadata": {},
   "outputs": [],
   "source": [
    "import pandas as pd\n",
    "from matplotlib import pyplot as plt\n",
    "import seaborn as sns\n",
    "\n",
    "path = r'./UNSW-NB15/'\n",
    "\n",
    "features = pd.read_csv(path + \"NUSW-NB15_features.csv\", encoding='cp1252')\n",
    "\n",
    "data = pd.concat([\n",
    "    pd.read_csv(path + \"UNSW-NB15_1.csv\", low_memory=False, names=features.Name),\n",
    "    pd.read_csv(path + \"UNSW-NB15_2.csv\", low_memory=False, names=features.Name),\n",
    "    pd.read_csv(path + \"UNSW-NB15_3.csv\", low_memory=False, names=features.Name),\n",
    "    pd.read_csv(path + \"UNSW-NB15_4.csv\", low_memory=False, names=features.Name)\n",
    "])\n",
    "\n",
    "data.info()"
   ]
  },
  {
   "attachments": {},
   "cell_type": "markdown",
   "metadata": {},
   "source": [
    "# Features Conversion"
   ]
  },
  {
   "attachments": {},
   "cell_type": "markdown",
   "metadata": {},
   "source": [
    "## Features which are unusable in the real world are dropped\n",
    "\n",
    "the features are : `srcip`, `sport`, `dstip`\n",
    "\n",
    "ip and port can vary and they can be faked using vpns"
   ]
  },
  {
   "cell_type": "code",
   "execution_count": null,
   "metadata": {},
   "outputs": [],
   "source": [
    "data.drop(\n",
    "\tcolumns=[\"srcip\", \"sport\", \"dstip\"], \n",
    "\tinplace=True\n",
    ")\n",
    "data.info()"
   ]
  },
  {
   "attachments": {},
   "cell_type": "markdown",
   "metadata": {},
   "source": [
    "## Parsing `ct_ftp_cmd` to int\n",
    "\n",
    "setting `-1` if the value was blank"
   ]
  },
  {
   "cell_type": "code",
   "execution_count": null,
   "metadata": {},
   "outputs": [],
   "source": [
    "data[\"ct_ftp_cmd\"] = data[\"ct_ftp_cmd\"].apply(lambda x: int(x) if x != \" \" else -1)\n",
    "data.info()"
   ]
  },
  {
   "attachments": {},
   "cell_type": "markdown",
   "metadata": {},
   "source": [
    "## Converting Hex to int"
   ]
  },
  {
   "cell_type": "code",
   "execution_count": null,
   "metadata": {},
   "outputs": [],
   "source": [
    "data[\"dsport\"] = data[\"dsport\"].apply(lambda x: int(x, 16) if x != \"-\" else -1)\n",
    "data.info()"
   ]
  },
  {
   "attachments": {},
   "cell_type": "markdown",
   "metadata": {},
   "source": [
    "## Setting `Nan` to `-1`"
   ]
  },
  {
   "cell_type": "code",
   "execution_count": null,
   "metadata": {},
   "outputs": [],
   "source": [
    "data[\"ct_flw_http_mthd\"].fillna(-1,  inplace=True)\n",
    "data[\"is_ftp_login\"].fillna(-1,  inplace=True)\n"
   ]
  },
  {
   "attachments": {},
   "cell_type": "markdown",
   "metadata": {},
   "source": [
    "## Converting the nominal features\n",
    "\n",
    "todo: create the enum for each features"
   ]
  },
  {
   "cell_type": "code",
   "execution_count": null,
   "metadata": {},
   "outputs": [],
   "source": [
    "nominal_features = [\"proto\", \"state\", \"service\"]\n",
    "\n",
    "for nominal_feature in nominal_features:\n",
    "\t\tnew_values, index = pd.factorize(data[nominal_feature])\n",
    "\t\tdata[nominal_feature] = new_values\n",
    "\n",
    "data.info()"
   ]
  },
  {
   "attachments": {},
   "cell_type": "markdown",
   "metadata": {},
   "source": [
    "# Data reduction"
   ]
  },
  {
   "attachments": {},
   "cell_type": "markdown",
   "metadata": {},
   "source": [
    "## Binary classication distribution"
   ]
  },
  {
   "cell_type": "code",
   "execution_count": null,
   "metadata": {},
   "outputs": [],
   "source": [
    "data_summary_attack = pd.DataFrame(data.Label.value_counts())\n",
    "data_summary_attack.columns.values[0] = \"Occurrencies\"\n",
    "\n",
    "data_summary_attack[\"Percentage\"] = data.Label.value_counts() / len(data)\n",
    "\n",
    "data_summary_attack"
   ]
  },
  {
   "attachments": {},
   "cell_type": "markdown",
   "metadata": {},
   "source": [
    "We have a very unbalanced dataset. Now let's look at the attack classes"
   ]
  },
  {
   "attachments": {},
   "cell_type": "markdown",
   "metadata": {},
   "source": [
    "## Multiclass classificatin distribution"
   ]
  },
  {
   "cell_type": "code",
   "execution_count": null,
   "metadata": {},
   "outputs": [],
   "source": [
    "data_summary_classes = pd.DataFrame(data.attack_cat.value_counts())\n",
    "data_summary_classes.columns.values[0] = \"Occurrencies\"\n",
    "\n",
    "attack_len = sum(data.Label)\n",
    "data_summary_classes[\"Percentage\"] = data.attack_cat.value_counts() / attack_len\n",
    "\n",
    "data_summary_classes"
   ]
  },
  {
   "attachments": {},
   "cell_type": "markdown",
   "metadata": {},
   "source": [
    "also the classes of attack are very unbalanced"
   ]
  },
  {
   "attachments": {},
   "cell_type": "markdown",
   "metadata": {},
   "source": [
    "## Reduce the number of classes of attack\n",
    "\n",
    "Let's first see the clusterability of the data set"
   ]
  },
  {
   "cell_type": "code",
   "execution_count": null,
   "metadata": {},
   "outputs": [],
   "source": [
    "import pyclustertend as pyct\n",
    "\n",
    "#Calculating the clusterability of the data frame in multiple samples\n",
    "data2 = data[data[\"attack_cat\"] != 'nan'].dropna().drop_duplicates()\n",
    "avg_list = []\n",
    "for sampling_size in range(10,51,10):\n",
    "    sample_list = []\n",
    "    for i in range(1,10,1):\n",
    "        data_blob = data2.drop(columns=[\"Label\", \"attack_cat\"]).sample(20_000)\n",
    "        sample_list.append(pyct.hopkins(data_blob,sampling_size))\n",
    "    print(f'Sampled {sampling_size}: {sum(sample_list) / len(sample_list)}')"
   ]
  },
  {
   "attachments": {},
   "cell_type": "markdown",
   "metadata": {},
   "source": [
    "The value is close to 0, so it'very clusterable\n",
    "\n",
    "Data is clustered using k-means"
   ]
  },
  {
   "cell_type": "code",
   "execution_count": null,
   "metadata": {},
   "outputs": [],
   "source": [
    "from sklearn.cluster import KMeans\n",
    "from sklearn.metrics import silhouette_score\n",
    "from sklearn.preprocessing import StandardScaler\n",
    "\n",
    "to_plot = data[data[\"attack_cat\"] != 'nan'].dropna().drop_duplicates()\n",
    "\n",
    "to_plot = to_plot.drop(columns=[\"Label\", \"attack_cat\"]).sample(50_000)\n",
    "\n",
    "#to_plot = StandardScaler().fit_transform(to_plot)\n",
    "\n",
    "silhouette_list = []\n",
    "inertia_list=[]\n",
    "\n",
    "for n_clusters in range(2,11):\n",
    "    kmeans = KMeans(n_clusters=n_clusters)\n",
    "    y_pred = kmeans.fit_predict(to_plot)\n",
    "\n",
    "    # evaluate silhouette score\n",
    "    silhouetteavg = silhouette_score(to_plot,y_pred)\n",
    "    silhouette_list.append(silhouetteavg)\n",
    "\n",
    "    # evaluate inertia\n",
    "    inertia_list.append(kmeans.inertia_)\n",
    "\n",
    "\n",
    "plt.tight_layout()\n",
    "\n",
    "# plot silhouette and inertia trends w.r.t the number of clusters\n",
    "fig, ax1 = plt.subplots()\n",
    "ax1.set_xlabel('k')\n",
    "ax1.set_ylabel('avg-silhouette', color='black')\n",
    "ax1.plot(range(2,11),silhouette_list,'--ok')\n",
    "ax1.tick_params(axis='y', labelcolor='black')\n",
    "ax1.grid(axis='y')\n",
    "\n",
    "ax2 = ax1.twinx()\n",
    "ax2.set_ylabel('loss', color='red')\n",
    "ax2.plot(range(2,11), inertia_list,'--or',alpha = 0.2)\n",
    "ax2.tick_params(axis='y', labelcolor='red')\n",
    "\n",
    "plt.tight_layout()  # otherwise the right y-label is slightly clipped"
   ]
  },
  {
   "attachments": {},
   "cell_type": "markdown",
   "metadata": {},
   "source": [
    "Using the silhouette method we have that the optimal number of clusters is 4-ish and 6-ish for only the attack categories, let's print the info of each cluster"
   ]
  },
  {
   "cell_type": "code",
   "execution_count": null,
   "metadata": {},
   "outputs": [],
   "source": [
    "# data_cluster = data[data[\"attack_cat\"] != 'nan'].drop(columns=\"Label\").dropna().sample(50_000)\n",
    "data_cluster = data[data[\"attack_cat\"] != 'nan'].drop(columns=\"Label\").dropna().drop_duplicates()\n",
    "data_cluster.attack_cat = data_cluster.attack_cat.apply(lambda x: x.strip())\n",
    "data_cluster.attack_cat = data_cluster.attack_cat.apply(lambda x: \"Backdoor\" if x == \"Backdoors\" else x)\n",
    "\n",
    "# Clustering with 4 clusters\n",
    "cluster1 = KMeans(n_clusters = 4)\n",
    "data_cluster[\"cluster\"] = cluster1.fit_predict(data_cluster.drop(columns=\"attack_cat\"))\n",
    "\n",
    "# conta il numero di elementi in ogni cluster\n",
    "counts = data_cluster.groupby('cluster')['attack_cat'].value_counts()\n",
    "\n",
    "#counts_df = pd.DataFrame(counts)\n",
    "table = pd.DataFrame()\n",
    "for i in range(0,4):\n",
    "    table[\"C \" + str(i)] = pd.DataFrame(counts[i])\n",
    "\n",
    "# print(table)\n",
    "# print(table.div(table.sum(axis=0), axis=1).round(4) * 100)\n",
    "print(table.div(table.sum(axis=1), axis=0).round(4) * 100)\n",
    "\n",
    "# Clustering with 7 clusters\n",
    "cluster2 = KMeans(n_clusters = 7)\n",
    "data_cluster[\"cluster\"] = cluster2.fit_predict(data_cluster.drop(columns=\"attack_cat\"))\n",
    "\n",
    "# conta il numero di elementi in ogni cluster\n",
    "counts = data_cluster.groupby('cluster')['attack_cat'].value_counts()\n",
    "\n",
    "#counts_df = pd.DataFrame(counts)\n",
    "table = pd.DataFrame()\n",
    "for i in range(0,7):\n",
    "    table[\"C \" + str(i)] = pd.DataFrame(counts[i])\n",
    "\n",
    "# print(table)\n",
    "# print(table.div(table.sum(axis=0), axis=1).round(4) * 100)\n",
    "print(table.div(table.sum(axis=1), axis=0).round(4) * 100)\n",
    "\n",
    "# Clustering with 9 clusters\n",
    "cluster3 = KMeans(n_clusters = 9)\n",
    "data_cluster[\"cluster\"] = cluster3.fit_predict(data_cluster.drop(columns=\"attack_cat\"))\n",
    "\n",
    "# conta il numero di elementi in ogni cluster\n",
    "counts = data_cluster.groupby('cluster')['attack_cat'].value_counts()\n",
    "\n",
    "#counts_df = pd.DataFrame(counts)\n",
    "table = pd.DataFrame()\n",
    "for i in range(0,9):\n",
    "    table[\"C \" + str(i)] = pd.DataFrame(counts[i])\n",
    "\n",
    "# print(table)\n",
    "# print(table.div(table.sum(axis=0), axis=1).round(4) * 100)\n",
    "print(table.div(table.sum(axis=1), axis=0).round(4) * 100)\n",
    "\n",
    "# Clustering with 15 clusters\n",
    "cluster4 = KMeans(n_clusters = 15)\n",
    "data_cluster[\"cluster\"] = cluster4.fit_predict(data_cluster.drop(columns=\"attack_cat\"))\n",
    "\n",
    "# conta il numero di elementi in ogni cluster\n",
    "counts = data_cluster.groupby('cluster')['attack_cat'].value_counts()\n",
    "\n",
    "#counts_df = pd.DataFrame(counts)\n",
    "table = pd.DataFrame()\n",
    "for i in range(0,15):\n",
    "    table[\"C \" + str(i)] = pd.DataFrame(counts[i])\n",
    "\n",
    "# print(table)\n",
    "# print(table.div(table.sum(axis=0), axis=1).round(4) * 100)\n",
    "print(table.div(table.sum(axis=1), axis=0).round(4) * 100)\n"
   ]
  },
  {
   "attachments": {},
   "cell_type": "markdown",
   "metadata": {},
   "source": [
    "[Shellcode] and [Reconnaissance] act similarly, the same goes for [Fuzzers] and [DoS], then [Analysis] and [Backdoor]. Then the [Worms] class can be eliminated because of the too few examples"
   ]
  },
  {
   "attachments": {},
   "cell_type": "markdown",
   "metadata": {},
   "source": [
    "we can see that the classes of attack are reduced to [Shellcode/Reconnaissance], [Fuzzers/DoS], [Analysis/Backdoor], [Generic] and [Exploits]"
   ]
  },
  {
   "cell_type": "code",
   "execution_count": null,
   "metadata": {},
   "outputs": [],
   "source": [
    "data_reduced = data[data['attack_cat'] != 'nan'].dropna().drop_duplicates()\n",
    "data_reduced = data_reduced[data_reduced['attack_cat'] != 'Worms']\n",
    "# print(data_reduced)\n",
    "\n",
    "data_reduced.attack_cat = data_reduced.attack_cat.apply(lambda x: str(x).strip())\n",
    "data_reduced.attack_cat = data_reduced.attack_cat.apply(lambda x: \"Shellcode/Reconnaissance\" if x == \"Shellcode\" or x == \"Reconnaissance\" else x)\n",
    "data_reduced.attack_cat = data_reduced.attack_cat.apply(lambda x: \"Fuzzers/DoS\" if x == \"Fuzzers\" or x == \"DoS\" else x)\n",
    "data_reduced.attack_cat = data_reduced.attack_cat.apply(lambda x: \"Analysis/Backdoor\" if x == \"Analysis\" or x == \"Backdoor\" or x == \"Backdoors\" else x)\n",
    "\n",
    "data_summary_classes = pd.DataFrame(data_reduced.attack_cat.value_counts())\n",
    "data_summary_classes.columns.values[0] = \"Occurrencies\"\n",
    "\n",
    "# attack_len = sum(data.Label)\n",
    "data_summary_classes[\"Percentage\"] = data_reduced.attack_cat.value_counts() / len(data_reduced)\n",
    "\n",
    "data_summary_classes\n",
    "# len(data_reduced)"
   ]
  },
  {
   "attachments": {},
   "cell_type": "markdown",
   "metadata": {},
   "source": [
    "## Adding non attack rows"
   ]
  },
  {
   "cell_type": "code",
   "execution_count": null,
   "metadata": {},
   "outputs": [],
   "source": [
    "data = pd.concat([data_reduced,data[data.Label == 0].sample(100_000)])"
   ]
  },
  {
   "attachments": {},
   "cell_type": "markdown",
   "metadata": {},
   "source": [
    "## Plot the features correlation"
   ]
  },
  {
   "cell_type": "code",
   "execution_count": null,
   "metadata": {},
   "outputs": [],
   "source": [
    "f,ax = plt.subplots(figsize=(40,32))\n",
    "\n",
    "data_without_label = data.drop(columns=['Label'])\n",
    "\n",
    "correlation_matrix = data_without_label.corr()\n",
    "\n",
    "sns.heatmap(correlation_matrix, annot=True, linewidths=0.5, fmt= '.2f',ax=ax)\n",
    "plt.show()"
   ]
  },
  {
   "attachments": {},
   "cell_type": "markdown",
   "metadata": {},
   "source": [
    "Drop the over-correlated features"
   ]
  },
  {
   "cell_type": "code",
   "execution_count": null,
   "metadata": {},
   "outputs": [],
   "source": [
    "import numpy as np\n",
    "\n",
    "abs_correlation_matrix = correlation_matrix.abs()\n",
    "\n",
    "# Select upper triangle of correlation matrix\n",
    "upper = abs_correlation_matrix.where(np.triu(np.ones(abs_correlation_matrix.shape), k=1).astype(np.bool_))\n",
    "\n",
    "# Find features with correlation greater than 0.95\n",
    "to_drop = [column for column in upper.columns if any(upper[column] > 0.90)]\n",
    "\n",
    "# print(to_drop)\n",
    "\n",
    "# Drop features \n",
    "data.drop(to_drop, axis=1, inplace=True)\n",
    "\n",
    "print(data.info())\n",
    "f,ax = plt.subplots(figsize=(40,32))\n",
    "\n",
    "data_without_label = data.drop(columns=['Label'])\n",
    "\n",
    "correlation_matrix = data_without_label.corr()\n",
    "\n",
    "sns.heatmap(correlation_matrix, annot=True, linewidths=0.5, fmt= '.2f',ax=ax)\n",
    "plt.show()"
   ]
  },
  {
   "attachments": {},
   "cell_type": "markdown",
   "metadata": {},
   "source": [
    "## PCA\n",
    "\n",
    "each features is analized to determine which features are not useful"
   ]
  },
  {
   "cell_type": "code",
   "execution_count": null,
   "metadata": {},
   "outputs": [],
   "source": [
    "from sklearn.decomposition import PCA\n",
    "from sklearn.preprocessing import StandardScaler\n",
    "from pandas.plotting import scatter_matrix\n",
    "\n",
    "\n",
    "pca = PCA(n_components=0.90, svd_solver='full')\n",
    "\n",
    "X, lab, cls = data.drop([\"Label\", \"attack_cat\"], axis=1), data.Label, data.attack_cat\n",
    "\n",
    "X = StandardScaler().fit_transform(X)\n",
    "\n",
    "pca.fit_transform(X)\n",
    "\n",
    "# print(pca.components_)\n",
    "\n",
    "# table = pd.DataFrame(pca.explained_variance_, index = data.drop([\"Label\", \"attack_cat\"], axis=1).columns, columns = ['Explained_variance'])\n",
    "\n",
    "# table.Explained_variance = table.Explained_variance.apply(pd.to_numeric, errors = 'coerce')\n",
    "\n",
    "# table\n",
    "# table.info()\n",
    "\n",
    "scatter_matrix(pd.DataFrame(X),\n",
    "    alpha = 1,\n",
    "    figsize = (40,32),\n",
    "    c = lab\n",
    "    )\n",
    "plt.show()\n"
   ]
  },
  {
   "cell_type": "code",
   "execution_count": null,
   "metadata": {},
   "outputs": [],
   "source": [
    "table = pd.DataFrame(pca.explained_variance_ratio_, index = data.drop([\"Label\", \"attack_cat\"], axis=1).columns, columns = ['Explained_variance_ratio'])\n",
    "\n",
    "# table.Explained_variance = table.Explained_variance.apply(pd.to_numeric, errors = 'coerce')\n",
    "\n",
    "table * 100"
   ]
  },
  {
   "attachments": {},
   "cell_type": "markdown",
   "metadata": {},
   "source": [
    "# Analyze the predominant features distributions\n",
    "\n",
    "ex: if `unas` is used only to do attacks there is a real world problem, beacuse every time you use `unas` the classificator detects it as an attack"
   ]
  },
  {
   "attachments": {},
   "cell_type": "markdown",
   "metadata": {},
   "source": [
    "below we are cheking for the `proto` features "
   ]
  },
  {
   "cell_type": "code",
   "execution_count": null,
   "metadata": {},
   "outputs": [],
   "source": [
    "data_summary_protocol = pd.DataFrame(data.proto)\n",
    "data_summary_protocol.dropna(how=\"all\")\n",
    "data_summary_protocol = data_summary_protocol.reset_index().groupby(\"proto\").count()\n",
    "data_summary_protocol.columns.values[0] = \"Occurrencies\"\n",
    "data_summary_protocol[\"Percentage\"] = data_summary_protocol.Occurrencies/data_summary_protocol.sum()[0]\n",
    "data_summary_protocol.sort_values('Occurrencies', ascending=False)"
   ]
  },
  {
   "attachments": {},
   "cell_type": "markdown",
   "metadata": {},
   "source": [
    "We can see that the protocol occurrencies are mainly composed by tcp and udp, let's focus only on lines corresponding to the attack label."
   ]
  },
  {
   "cell_type": "code",
   "execution_count": null,
   "metadata": {},
   "outputs": [],
   "source": [
    "data_filtered = data[(data.Label == 1)]\n",
    "plt.figure()\n",
    "plt.hist(data_filtered.proto, bins = len(data_filtered.proto.value_counts()))\n",
    "plt.ylabel('Occurrences')\n",
    "plt.xlabel('Protocols')\n",
    "plt.xticks(rotation=45)\n",
    "data_summary_protocol_attack = pd.DataFrame(data_filtered.proto)\n",
    "data_summary_protocol_attack.dropna(how=\"all\")\n",
    "data_summary_protocol_attack = data_summary_protocol_attack.reset_index().groupby(\"proto\").count()\n",
    "data_summary_protocol_attack.columns.values[0] = \"Occurrencies\"\n",
    "data_summary_protocol_attack[\"Percentage\"] = data_summary_protocol_attack.Occurrencies/data_summary_protocol_attack.sum()[0]\n",
    "data_summary_protocol_attack.sort_values('Occurrencies', ascending=False)\n"
   ]
  }
 ],
 "metadata": {
  "kernelspec": {
   "display_name": "Python 3",
   "language": "python",
   "name": "python3"
  },
  "language_info": {
   "codemirror_mode": {
    "name": "ipython",
    "version": 3
   },
   "file_extension": ".py",
   "mimetype": "text/x-python",
   "name": "python",
   "nbconvert_exporter": "python",
   "pygments_lexer": "ipython3",
   "version": "3.10.6 (main, Nov 14 2022, 16:10:14) [GCC 11.3.0]"
  },
  "vscode": {
   "interpreter": {
    "hash": "916dbcbb3f70747c44a77c7bcd40155683ae19c65e1c03b4aa3499c5328201f1"
   }
  }
 },
 "nbformat": 4,
 "nbformat_minor": 2
}
