{
 "cells": [
  {
   "attachments": {},
   "cell_type": "markdown",
   "metadata": {},
   "source": [
    "# Data extraction and aggregation"
   ]
  },
  {
   "cell_type": "code",
   "execution_count": 17,
   "metadata": {},
   "outputs": [
    {
     "name": "stdout",
     "output_type": "stream",
     "text": [
      "<class 'pandas.core.frame.DataFrame'>\n",
      "Int64Index: 2540047 entries, 0 to 440043\n",
      "Data columns (total 49 columns):\n",
      " #   Column            Dtype  \n",
      "---  ------            -----  \n",
      " 0   srcip             object \n",
      " 1   sport             object \n",
      " 2   dstip             object \n",
      " 3   dsport            object \n",
      " 4   proto             object \n",
      " 5   state             object \n",
      " 6   dur               float64\n",
      " 7   sbytes            int64  \n",
      " 8   dbytes            int64  \n",
      " 9   sttl              int64  \n",
      " 10  dttl              int64  \n",
      " 11  sloss             int64  \n",
      " 12  dloss             int64  \n",
      " 13  service           object \n",
      " 14  Sload             float64\n",
      " 15  Dload             float64\n",
      " 16  Spkts             int64  \n",
      " 17  Dpkts             int64  \n",
      " 18  swin              int64  \n",
      " 19  dwin              int64  \n",
      " 20  stcpb             int64  \n",
      " 21  dtcpb             int64  \n",
      " 22  smeansz           int64  \n",
      " 23  dmeansz           int64  \n",
      " 24  trans_depth       int64  \n",
      " 25  res_bdy_len       int64  \n",
      " 26  Sjit              float64\n",
      " 27  Djit              float64\n",
      " 28  Stime             int64  \n",
      " 29  Ltime             int64  \n",
      " 30  Sintpkt           float64\n",
      " 31  Dintpkt           float64\n",
      " 32  tcprtt            float64\n",
      " 33  synack            float64\n",
      " 34  ackdat            float64\n",
      " 35  is_sm_ips_ports   int64  \n",
      " 36  ct_state_ttl      int64  \n",
      " 37  ct_flw_http_mthd  float64\n",
      " 38  is_ftp_login      float64\n",
      " 39  ct_ftp_cmd        object \n",
      " 40  ct_srv_src        int64  \n",
      " 41  ct_srv_dst        int64  \n",
      " 42  ct_dst_ltm        int64  \n",
      " 43  ct_src_ltm        int64  \n",
      " 44  ct_src_dport_ltm  int64  \n",
      " 45  ct_dst_sport_ltm  int64  \n",
      " 46  ct_dst_src_ltm    int64  \n",
      " 47  attack_cat        object \n",
      " 48  Label             int64  \n",
      "dtypes: float64(12), int64(28), object(9)\n",
      "memory usage: 969.0+ MB\n"
     ]
    }
   ],
   "source": [
    "import pandas as pd\n",
    "from matplotlib import pyplot as plt\n",
    "import seaborn as sns\n",
    "\n",
    "path = r'./UNSW-NB15/'\n",
    "\n",
    "features = pd.read_csv(path + \"NUSW-NB15_features.csv\", encoding='cp1252')\n",
    "\n",
    "data = pd.concat([\n",
    "    pd.read_csv(path + \"UNSW-NB15_1.csv\", low_memory=False, names=features.Name),\n",
    "    pd.read_csv(path + \"UNSW-NB15_2.csv\", low_memory=False, names=features.Name),\n",
    "    pd.read_csv(path + \"UNSW-NB15_3.csv\", low_memory=False, names=features.Name),\n",
    "    pd.read_csv(path + \"UNSW-NB15_4.csv\", low_memory=False, names=features.Name)\n",
    "])\n",
    "\n",
    "data.info()"
   ]
  },
  {
   "attachments": {},
   "cell_type": "markdown",
   "metadata": {},
   "source": [
    "# Features Conversion"
   ]
  },
  {
   "attachments": {},
   "cell_type": "markdown",
   "metadata": {},
   "source": [
    "## Features which are unusable in the real world are dropped\n",
    "\n",
    "the features are : `srcip`, `sport`, `dstip`\n",
    "\n",
    "ip and port can vary and they can be faked using vpns"
   ]
  },
  {
   "cell_type": "code",
   "execution_count": 18,
   "metadata": {},
   "outputs": [
    {
     "name": "stdout",
     "output_type": "stream",
     "text": [
      "<class 'pandas.core.frame.DataFrame'>\n",
      "Int64Index: 2540047 entries, 0 to 440043\n",
      "Data columns (total 46 columns):\n",
      " #   Column            Dtype  \n",
      "---  ------            -----  \n",
      " 0   dsport            object \n",
      " 1   proto             object \n",
      " 2   state             object \n",
      " 3   dur               float64\n",
      " 4   sbytes            int64  \n",
      " 5   dbytes            int64  \n",
      " 6   sttl              int64  \n",
      " 7   dttl              int64  \n",
      " 8   sloss             int64  \n",
      " 9   dloss             int64  \n",
      " 10  service           object \n",
      " 11  Sload             float64\n",
      " 12  Dload             float64\n",
      " 13  Spkts             int64  \n",
      " 14  Dpkts             int64  \n",
      " 15  swin              int64  \n",
      " 16  dwin              int64  \n",
      " 17  stcpb             int64  \n",
      " 18  dtcpb             int64  \n",
      " 19  smeansz           int64  \n",
      " 20  dmeansz           int64  \n",
      " 21  trans_depth       int64  \n",
      " 22  res_bdy_len       int64  \n",
      " 23  Sjit              float64\n",
      " 24  Djit              float64\n",
      " 25  Stime             int64  \n",
      " 26  Ltime             int64  \n",
      " 27  Sintpkt           float64\n",
      " 28  Dintpkt           float64\n",
      " 29  tcprtt            float64\n",
      " 30  synack            float64\n",
      " 31  ackdat            float64\n",
      " 32  is_sm_ips_ports   int64  \n",
      " 33  ct_state_ttl      int64  \n",
      " 34  ct_flw_http_mthd  float64\n",
      " 35  is_ftp_login      float64\n",
      " 36  ct_ftp_cmd        object \n",
      " 37  ct_srv_src        int64  \n",
      " 38  ct_srv_dst        int64  \n",
      " 39  ct_dst_ltm        int64  \n",
      " 40  ct_src_ltm        int64  \n",
      " 41  ct_src_dport_ltm  int64  \n",
      " 42  ct_dst_sport_ltm  int64  \n",
      " 43  ct_dst_src_ltm    int64  \n",
      " 44  attack_cat        object \n",
      " 45  Label             int64  \n",
      "dtypes: float64(12), int64(28), object(6)\n",
      "memory usage: 910.8+ MB\n"
     ]
    }
   ],
   "source": [
    "data.drop(\n",
    "\tcolumns=[\"srcip\", \"sport\", \"dstip\"], \n",
    "\tinplace=True\n",
    ")\n",
    "data.info()"
   ]
  },
  {
   "attachments": {},
   "cell_type": "markdown",
   "metadata": {},
   "source": [
    "## Parsing `ct_ftp_cmd` to int\n",
    "\n",
    "setting `-1` if the value was blank"
   ]
  },
  {
   "cell_type": "code",
   "execution_count": 19,
   "metadata": {},
   "outputs": [
    {
     "name": "stdout",
     "output_type": "stream",
     "text": [
      "<class 'pandas.core.frame.DataFrame'>\n",
      "Int64Index: 2540047 entries, 0 to 440043\n",
      "Data columns (total 46 columns):\n",
      " #   Column            Dtype  \n",
      "---  ------            -----  \n",
      " 0   dsport            object \n",
      " 1   proto             object \n",
      " 2   state             object \n",
      " 3   dur               float64\n",
      " 4   sbytes            int64  \n",
      " 5   dbytes            int64  \n",
      " 6   sttl              int64  \n",
      " 7   dttl              int64  \n",
      " 8   sloss             int64  \n",
      " 9   dloss             int64  \n",
      " 10  service           object \n",
      " 11  Sload             float64\n",
      " 12  Dload             float64\n",
      " 13  Spkts             int64  \n",
      " 14  Dpkts             int64  \n",
      " 15  swin              int64  \n",
      " 16  dwin              int64  \n",
      " 17  stcpb             int64  \n",
      " 18  dtcpb             int64  \n",
      " 19  smeansz           int64  \n",
      " 20  dmeansz           int64  \n",
      " 21  trans_depth       int64  \n",
      " 22  res_bdy_len       int64  \n",
      " 23  Sjit              float64\n",
      " 24  Djit              float64\n",
      " 25  Stime             int64  \n",
      " 26  Ltime             int64  \n",
      " 27  Sintpkt           float64\n",
      " 28  Dintpkt           float64\n",
      " 29  tcprtt            float64\n",
      " 30  synack            float64\n",
      " 31  ackdat            float64\n",
      " 32  is_sm_ips_ports   int64  \n",
      " 33  ct_state_ttl      int64  \n",
      " 34  ct_flw_http_mthd  float64\n",
      " 35  is_ftp_login      float64\n",
      " 36  ct_ftp_cmd        int64  \n",
      " 37  ct_srv_src        int64  \n",
      " 38  ct_srv_dst        int64  \n",
      " 39  ct_dst_ltm        int64  \n",
      " 40  ct_src_ltm        int64  \n",
      " 41  ct_src_dport_ltm  int64  \n",
      " 42  ct_dst_sport_ltm  int64  \n",
      " 43  ct_dst_src_ltm    int64  \n",
      " 44  attack_cat        object \n",
      " 45  Label             int64  \n",
      "dtypes: float64(12), int64(29), object(5)\n",
      "memory usage: 910.8+ MB\n"
     ]
    }
   ],
   "source": [
    "data[\"ct_ftp_cmd\"] = data[\"ct_ftp_cmd\"].apply(lambda x: int(x) if x != \" \" else -1)\n",
    "data.info()"
   ]
  },
  {
   "attachments": {},
   "cell_type": "markdown",
   "metadata": {},
   "source": [
    "## Converting Hex to int"
   ]
  },
  {
   "cell_type": "code",
   "execution_count": 20,
   "metadata": {},
   "outputs": [
    {
     "name": "stdout",
     "output_type": "stream",
     "text": [
      "<class 'pandas.core.frame.DataFrame'>\n",
      "Int64Index: 2540047 entries, 0 to 440043\n",
      "Data columns (total 46 columns):\n",
      " #   Column            Dtype  \n",
      "---  ------            -----  \n",
      " 0   dsport            int64  \n",
      " 1   proto             object \n",
      " 2   state             object \n",
      " 3   dur               float64\n",
      " 4   sbytes            int64  \n",
      " 5   dbytes            int64  \n",
      " 6   sttl              int64  \n",
      " 7   dttl              int64  \n",
      " 8   sloss             int64  \n",
      " 9   dloss             int64  \n",
      " 10  service           object \n",
      " 11  Sload             float64\n",
      " 12  Dload             float64\n",
      " 13  Spkts             int64  \n",
      " 14  Dpkts             int64  \n",
      " 15  swin              int64  \n",
      " 16  dwin              int64  \n",
      " 17  stcpb             int64  \n",
      " 18  dtcpb             int64  \n",
      " 19  smeansz           int64  \n",
      " 20  dmeansz           int64  \n",
      " 21  trans_depth       int64  \n",
      " 22  res_bdy_len       int64  \n",
      " 23  Sjit              float64\n",
      " 24  Djit              float64\n",
      " 25  Stime             int64  \n",
      " 26  Ltime             int64  \n",
      " 27  Sintpkt           float64\n",
      " 28  Dintpkt           float64\n",
      " 29  tcprtt            float64\n",
      " 30  synack            float64\n",
      " 31  ackdat            float64\n",
      " 32  is_sm_ips_ports   int64  \n",
      " 33  ct_state_ttl      int64  \n",
      " 34  ct_flw_http_mthd  float64\n",
      " 35  is_ftp_login      float64\n",
      " 36  ct_ftp_cmd        int64  \n",
      " 37  ct_srv_src        int64  \n",
      " 38  ct_srv_dst        int64  \n",
      " 39  ct_dst_ltm        int64  \n",
      " 40  ct_src_ltm        int64  \n",
      " 41  ct_src_dport_ltm  int64  \n",
      " 42  ct_dst_sport_ltm  int64  \n",
      " 43  ct_dst_src_ltm    int64  \n",
      " 44  attack_cat        object \n",
      " 45  Label             int64  \n",
      "dtypes: float64(12), int64(30), object(4)\n",
      "memory usage: 910.8+ MB\n"
     ]
    }
   ],
   "source": [
    "data[\"dsport\"] = data[\"dsport\"].apply(lambda x: int(x, 16) if x != \"-\" else -1)\n",
    "data.info()"
   ]
  },
  {
   "attachments": {},
   "cell_type": "markdown",
   "metadata": {},
   "source": [
    "## Setting `Nan` to `-1`"
   ]
  },
  {
   "cell_type": "code",
   "execution_count": 21,
   "metadata": {},
   "outputs": [],
   "source": [
    "data[\"ct_flw_http_mthd\"].fillna(-1,  inplace=True)\n",
    "data[\"is_ftp_login\"].fillna(-1,  inplace=True)\n"
   ]
  },
  {
   "attachments": {},
   "cell_type": "markdown",
   "metadata": {},
   "source": [
    "## Converting the nominal features\n",
    "\n",
    "todo: create the enum for each features"
   ]
  },
  {
   "cell_type": "code",
   "execution_count": 22,
   "metadata": {},
   "outputs": [
    {
     "name": "stdout",
     "output_type": "stream",
     "text": [
      "<class 'pandas.core.frame.DataFrame'>\n",
      "Int64Index: 2540047 entries, 0 to 440043\n",
      "Data columns (total 46 columns):\n",
      " #   Column            Dtype  \n",
      "---  ------            -----  \n",
      " 0   dsport            int64  \n",
      " 1   proto             int64  \n",
      " 2   state             int64  \n",
      " 3   dur               float64\n",
      " 4   sbytes            int64  \n",
      " 5   dbytes            int64  \n",
      " 6   sttl              int64  \n",
      " 7   dttl              int64  \n",
      " 8   sloss             int64  \n",
      " 9   dloss             int64  \n",
      " 10  service           int64  \n",
      " 11  Sload             float64\n",
      " 12  Dload             float64\n",
      " 13  Spkts             int64  \n",
      " 14  Dpkts             int64  \n",
      " 15  swin              int64  \n",
      " 16  dwin              int64  \n",
      " 17  stcpb             int64  \n",
      " 18  dtcpb             int64  \n",
      " 19  smeansz           int64  \n",
      " 20  dmeansz           int64  \n",
      " 21  trans_depth       int64  \n",
      " 22  res_bdy_len       int64  \n",
      " 23  Sjit              float64\n",
      " 24  Djit              float64\n",
      " 25  Stime             int64  \n",
      " 26  Ltime             int64  \n",
      " 27  Sintpkt           float64\n",
      " 28  Dintpkt           float64\n",
      " 29  tcprtt            float64\n",
      " 30  synack            float64\n",
      " 31  ackdat            float64\n",
      " 32  is_sm_ips_ports   int64  \n",
      " 33  ct_state_ttl      int64  \n",
      " 34  ct_flw_http_mthd  float64\n",
      " 35  is_ftp_login      float64\n",
      " 36  ct_ftp_cmd        int64  \n",
      " 37  ct_srv_src        int64  \n",
      " 38  ct_srv_dst        int64  \n",
      " 39  ct_dst_ltm        int64  \n",
      " 40  ct_src_ltm        int64  \n",
      " 41  ct_src_dport_ltm  int64  \n",
      " 42  ct_dst_sport_ltm  int64  \n",
      " 43  ct_dst_src_ltm    int64  \n",
      " 44  attack_cat        object \n",
      " 45  Label             int64  \n",
      "dtypes: float64(12), int64(33), object(1)\n",
      "memory usage: 910.8+ MB\n"
     ]
    }
   ],
   "source": [
    "nominal_features = [\"proto\", \"state\", \"service\"]\n",
    "\n",
    "for nominal_feature in nominal_features:\n",
    "\t\tnew_values, index = pd.factorize(data[nominal_feature])\n",
    "\t\tdata[nominal_feature] = new_values\n",
    "\n",
    "data.info()"
   ]
  },
  {
   "attachments": {},
   "cell_type": "markdown",
   "metadata": {},
   "source": [
    "# Data reduction"
   ]
  },
  {
   "attachments": {},
   "cell_type": "markdown",
   "metadata": {},
   "source": [
    "## Binary classication distributioon"
   ]
  },
  {
   "cell_type": "code",
   "execution_count": 23,
   "metadata": {},
   "outputs": [
    {
     "data": {
      "text/html": [
       "<div>\n",
       "<style scoped>\n",
       "    .dataframe tbody tr th:only-of-type {\n",
       "        vertical-align: middle;\n",
       "    }\n",
       "\n",
       "    .dataframe tbody tr th {\n",
       "        vertical-align: top;\n",
       "    }\n",
       "\n",
       "    .dataframe thead th {\n",
       "        text-align: right;\n",
       "    }\n",
       "</style>\n",
       "<table border=\"1\" class=\"dataframe\">\n",
       "  <thead>\n",
       "    <tr style=\"text-align: right;\">\n",
       "      <th></th>\n",
       "      <th>Occurrencies</th>\n",
       "      <th>Percentage</th>\n",
       "    </tr>\n",
       "  </thead>\n",
       "  <tbody>\n",
       "    <tr>\n",
       "      <th>0</th>\n",
       "      <td>2218764</td>\n",
       "      <td>0.873513</td>\n",
       "    </tr>\n",
       "    <tr>\n",
       "      <th>1</th>\n",
       "      <td>321283</td>\n",
       "      <td>0.126487</td>\n",
       "    </tr>\n",
       "  </tbody>\n",
       "</table>\n",
       "</div>"
      ],
      "text/plain": [
       "   Occurrencies  Percentage\n",
       "0       2218764    0.873513\n",
       "1        321283    0.126487"
      ]
     },
     "execution_count": 23,
     "metadata": {},
     "output_type": "execute_result"
    }
   ],
   "source": [
    "data_summary_attack = pd.DataFrame(data.Label.value_counts())\n",
    "data_summary_attack.columns.values[0] = \"Occurrencies\"\n",
    "\n",
    "data_summary_attack[\"Percentage\"] = data.Label.value_counts() / len(data)\n",
    "\n",
    "data_summary_attack"
   ]
  },
  {
   "attachments": {},
   "cell_type": "markdown",
   "metadata": {},
   "source": [
    "We have a very unbalanced dataset. Now let's look at the attack classes"
   ]
  },
  {
   "attachments": {},
   "cell_type": "markdown",
   "metadata": {},
   "source": [
    "## Multiclass classificatin distribution"
   ]
  },
  {
   "cell_type": "code",
   "execution_count": 24,
   "metadata": {},
   "outputs": [
    {
     "data": {
      "text/html": [
       "<div>\n",
       "<style scoped>\n",
       "    .dataframe tbody tr th:only-of-type {\n",
       "        vertical-align: middle;\n",
       "    }\n",
       "\n",
       "    .dataframe tbody tr th {\n",
       "        vertical-align: top;\n",
       "    }\n",
       "\n",
       "    .dataframe thead th {\n",
       "        text-align: right;\n",
       "    }\n",
       "</style>\n",
       "<table border=\"1\" class=\"dataframe\">\n",
       "  <thead>\n",
       "    <tr style=\"text-align: right;\">\n",
       "      <th></th>\n",
       "      <th>Occurrencies</th>\n",
       "      <th>Percentage</th>\n",
       "    </tr>\n",
       "  </thead>\n",
       "  <tbody>\n",
       "    <tr>\n",
       "      <th>Generic</th>\n",
       "      <td>215481</td>\n",
       "      <td>0.670689</td>\n",
       "    </tr>\n",
       "    <tr>\n",
       "      <th>Exploits</th>\n",
       "      <td>44525</td>\n",
       "      <td>0.138585</td>\n",
       "    </tr>\n",
       "    <tr>\n",
       "      <th>Fuzzers</th>\n",
       "      <td>19195</td>\n",
       "      <td>0.059745</td>\n",
       "    </tr>\n",
       "    <tr>\n",
       "      <th>DoS</th>\n",
       "      <td>16353</td>\n",
       "      <td>0.050899</td>\n",
       "    </tr>\n",
       "    <tr>\n",
       "      <th>Reconnaissance</th>\n",
       "      <td>12228</td>\n",
       "      <td>0.038060</td>\n",
       "    </tr>\n",
       "    <tr>\n",
       "      <th>Fuzzers</th>\n",
       "      <td>5051</td>\n",
       "      <td>0.015721</td>\n",
       "    </tr>\n",
       "    <tr>\n",
       "      <th>Analysis</th>\n",
       "      <td>2677</td>\n",
       "      <td>0.008332</td>\n",
       "    </tr>\n",
       "    <tr>\n",
       "      <th>Backdoor</th>\n",
       "      <td>1795</td>\n",
       "      <td>0.005587</td>\n",
       "    </tr>\n",
       "    <tr>\n",
       "      <th>Reconnaissance</th>\n",
       "      <td>1759</td>\n",
       "      <td>0.005475</td>\n",
       "    </tr>\n",
       "    <tr>\n",
       "      <th>Shellcode</th>\n",
       "      <td>1288</td>\n",
       "      <td>0.004009</td>\n",
       "    </tr>\n",
       "    <tr>\n",
       "      <th>Backdoors</th>\n",
       "      <td>534</td>\n",
       "      <td>0.001662</td>\n",
       "    </tr>\n",
       "    <tr>\n",
       "      <th>Shellcode</th>\n",
       "      <td>223</td>\n",
       "      <td>0.000694</td>\n",
       "    </tr>\n",
       "    <tr>\n",
       "      <th>Worms</th>\n",
       "      <td>174</td>\n",
       "      <td>0.000542</td>\n",
       "    </tr>\n",
       "  </tbody>\n",
       "</table>\n",
       "</div>"
      ],
      "text/plain": [
       "                  Occurrencies  Percentage\n",
       "Generic                 215481    0.670689\n",
       "Exploits                 44525    0.138585\n",
       " Fuzzers                 19195    0.059745\n",
       "DoS                      16353    0.050899\n",
       " Reconnaissance          12228    0.038060\n",
       " Fuzzers                  5051    0.015721\n",
       "Analysis                  2677    0.008332\n",
       "Backdoor                  1795    0.005587\n",
       "Reconnaissance            1759    0.005475\n",
       " Shellcode                1288    0.004009\n",
       "Backdoors                  534    0.001662\n",
       "Shellcode                  223    0.000694\n",
       "Worms                      174    0.000542"
      ]
     },
     "execution_count": 24,
     "metadata": {},
     "output_type": "execute_result"
    }
   ],
   "source": [
    "\n",
    "data_summary_classes = pd.DataFrame(data.attack_cat.value_counts())\n",
    "data_summary_classes.columns.values[0] = \"Occurrencies\"\n",
    "\n",
    "attack_len = sum(data.Label)\n",
    "data_summary_classes[\"Percentage\"] = data.attack_cat.value_counts() / attack_len\n",
    "\n",
    "data_summary_classes"
   ]
  },
  {
   "attachments": {},
   "cell_type": "markdown",
   "metadata": {},
   "source": [
    "also the classes of attack are very unbalanced"
   ]
  },
  {
   "attachments": {},
   "cell_type": "markdown",
   "metadata": {},
   "source": [
    "## Reduce the number of classes of attack\n",
    "\n",
    "data is clustered using k-means"
   ]
  },
  {
   "cell_type": "code",
   "execution_count": 41,
   "metadata": {},
   "outputs": [
    {
     "data": {
      "text/plain": [
       "<Figure size 640x480 with 0 Axes>"
      ]
     },
     "metadata": {},
     "output_type": "display_data"
    },
    {
     "data": {
      "image/png": "[encoded data removed]",
      "text/plain": [
       "<Figure size 640x480 with 2 Axes>"
      ]
     },
     "metadata": {},
     "output_type": "display_data"
    }
   ],
   "source": [
    "from sklearn.cluster import KMeans\n",
    "from sklearn.metrics import silhouette_score\n",
    "\n",
    "to_plot = data.drop(columns=[\"Label\", \"attack_cat\"]).sample(20_000)\n",
    "\n",
    "silhouette_list = []\n",
    "inertia_list=[]\n",
    "# f,axes = plt.subplots(2,4,figsize = (20,10))\n",
    "\n",
    "for n_clusters in range(2,25):\n",
    "    kmeans = KMeans(n_clusters=n_clusters, random_state=10, init=\"k-means++\")\n",
    "    y_pred = kmeans.fit_predict(to_plot)\n",
    "\n",
    "    # evaluate silhouette score\n",
    "    silhouetteavg = silhouette_score(to_plot,y_pred)\n",
    "    silhouette_list.append(silhouetteavg)\n",
    "\n",
    "    # evaluate inertia\n",
    "    inertia_list.append(kmeans.inertia_)\n",
    "\n",
    "    # display clustered samples\n",
    "    # axes[(n_clusters-2)//4][(n_clusters-2)%4].scatter(to_plot[:,0],to_plot[:,1], c = y_pred,alpha = 0.5)\n",
    "    # axes[(n_clusters-2)//4][(n_clusters-2)%4].axis('equal')\n",
    "    # axes[(n_clusters-2)//4][(n_clusters-2)%4].set_xlabel('Feature 1')\n",
    "    # axes[(n_clusters-2)//4][(n_clusters-2)%4].set_ylabel('Feature 2')\n",
    "    # axes[(n_clusters-2)//4][(n_clusters-2)%4].set_title(f'k={n_clusters} - Avg. Silhouette={silhouetteavg:.2} - n_iter = {kmeans.niter}' )\n",
    "\n",
    "    # display clusters centroids\n",
    "    centers = kmeans.cluster_centers_\n",
    "    # axes[(n_clusters-2)//4][(n_clusters-2)%4].scatter(centers[:,0],centers[:,1], marker = 'x',c = 'r')\n",
    "\n",
    "plt.tight_layout()\n",
    "\n",
    "# plot silhouette and inertia trends w.r.t the number of clusters\n",
    "fig, ax1 = plt.subplots()\n",
    "ax1.set_xlabel('k')\n",
    "ax1.set_ylabel('avg-silhouette', color='black')\n",
    "ax1.plot(range(2,25),silhouette_list,'--ok')\n",
    "ax1.tick_params(axis='y', labelcolor='black')\n",
    "ax1.grid(axis='y')\n",
    "\n",
    "ax2 = ax1.twinx()\n",
    "ax2.set_ylabel('loss', color='red')\n",
    "ax2.plot(range(2,25), inertia_list,'--or',alpha = 0.2)\n",
    "ax2.tick_params(axis='y', labelcolor='red')\n",
    "\n",
    "plt.tight_layout()  # otherwise the right y-label is slightly clipped"
   ]
  },
  {
   "attachments": {},
   "cell_type": "markdown",
   "metadata": {},
   "source": [
    "then we will determine the right amount of clusters by using the silhouette method"
   ]
  },
  {
   "attachments": {},
   "cell_type": "markdown",
   "metadata": {},
   "source": [
    "then from each cluster we will select the predominat class of attack"
   ]
  },
  {
   "attachments": {},
   "cell_type": "markdown",
   "metadata": {},
   "source": [
    "we can see that the classes of attack are reduced to ..."
   ]
  },
  {
   "attachments": {},
   "cell_type": "markdown",
   "metadata": {},
   "source": [
    "## Plot the features correlation"
   ]
  },
  {
   "cell_type": "code",
   "execution_count": null,
   "metadata": {},
   "outputs": [],
   "source": [
    "f,ax = plt.subplots(figsize=(40,32))\n",
    "\n",
    "data_without_label = data.drop(columns=['Label'])\n",
    "\n",
    "correlation_matrix = data_without_label.corr()\n",
    "\n",
    "sns.heatmap(correlation_matrix, annot=True, linewidths=0.5, fmt= '.2f',ax=ax)\n",
    "plt.show()"
   ]
  },
  {
   "attachments": {},
   "cell_type": "markdown",
   "metadata": {},
   "source": [
    "Drop the correlated features"
   ]
  },
  {
   "cell_type": "code",
   "execution_count": null,
   "metadata": {},
   "outputs": [],
   "source": [
    "import numpy as np\n",
    "\n",
    "abs_correlation_matrix = correlation_matrix.abs()\n",
    "\n",
    "# Select upper triangle of correlation matrix\n",
    "upper = abs_correlation_matrix.where(np.triu(np.ones(abs_correlation_matrix.shape), k=1).astype(np.bool))\n",
    "\n",
    "# Find features with correlation greater than 0.95\n",
    "to_drop = [column for column in upper.columns if any(upper[column] > 0.90)]\n",
    "\n",
    "print(to_drop)\n",
    "\n",
    "# Drop features \n",
    "data.drop(to_drop, axis=1, inplace=True)\n",
    "\n",
    "data.info()"
   ]
  },
  {
   "attachments": {},
   "cell_type": "markdown",
   "metadata": {},
   "source": [
    "## Information gain\n",
    "\n",
    "each features is analized to determine which features are not useful"
   ]
  },
  {
   "attachments": {},
   "cell_type": "markdown",
   "metadata": {},
   "source": [
    "# Analyze the predominant features distributions\n",
    "\n",
    "ex: if `unas` is used only to do attacks there is a real world problem, beacuse every time you use `unas` the classificator detects it as an attack"
   ]
  },
  {
   "attachments": {},
   "cell_type": "markdown",
   "metadata": {},
   "source": [
    "below we are cheking for the `proto` features "
   ]
  },
  {
   "cell_type": "code",
   "execution_count": null,
   "metadata": {},
   "outputs": [],
   "source": [
    "data_summary_protocol = pd.DataFrame(data.proto)\n",
    "data_summary_protocol.dropna(how=\"all\")\n",
    "data_summary_protocol = data_summary_protocol.reset_index().groupby(\"proto\").count()\n",
    "data_summary_protocol.columns.values[0] = \"Occurrencies\"\n",
    "data_summary_protocol[\"Percentage\"] = data_summary_protocol.Occurrencies/data_summary_protocol.sum()[0]\n",
    "data_summary_protocol.sort_values('Occurrencies', ascending=False)"
   ]
  },
  {
   "attachments": {},
   "cell_type": "markdown",
   "metadata": {},
   "source": [
    "We can see that the protocol occurrencies are mainly composed by tcp and udp, let's focus only on lines corresponding to the attack label."
   ]
  },
  {
   "cell_type": "code",
   "execution_count": null,
   "metadata": {},
   "outputs": [],
   "source": [
    "data_filtered = data[(data.Label == 1)]\n",
    "plt.figure()\n",
    "plt.hist(data_filtered.proto, bins = len(data_filtered.proto.value_counts()))\n",
    "plt.ylabel('Occurrences')\n",
    "plt.xlabel('Protocols')\n",
    "plt.xticks(rotation=45)\n",
    "data_summary_protocol_attack = pd.DataFrame(data_filtered.proto)\n",
    "data_summary_protocol_attack.dropna(how=\"all\")\n",
    "data_summary_protocol_attack = data_summary_protocol_attack.reset_index().groupby(\"proto\").count()\n",
    "data_summary_protocol_attack.columns.values[0] = \"Occurrencies\"\n",
    "data_summary_protocol_attack[\"Percentage\"] = data_summary_protocol_attack.Occurrencies/data_summary_protocol_attack.sum()[0]\n",
    "data_summary_protocol_attack.sort_values('Occurrencies', ascending=False)\n"
   ]
  }
 ],
 "metadata": {
  "kernelspec": {
   "display_name": "Python 3",
   "language": "python",
   "name": "python3"
  },
  "language_info": {
   "codemirror_mode": {
    "name": "ipython",
    "version": 3
   },
   "file_extension": ".py",
   "mimetype": "text/x-python",
   "name": "python",
   "nbconvert_exporter": "python",
   "pygments_lexer": "ipython3",
   "version": "3.9.1 (tags/v3.9.1:1e5d33e, Dec  7 2020, 17:08:21) [MSC v.1927 64 bit (AMD64)]"
  },
  "orig_nbformat": 4,
  "vscode": {
   "interpreter": {
    "hash": "54d40a8d706b082090ba4f4c3f8e18179a1fa8c2ff26f9ae08651dbcb7b8ab81"
   }
  }
 },
 "nbformat": 4,
 "nbformat_minor": 2
}
